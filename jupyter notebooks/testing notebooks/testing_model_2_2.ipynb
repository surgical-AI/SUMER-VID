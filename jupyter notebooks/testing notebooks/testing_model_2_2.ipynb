{
 "cells": [
  {
   "cell_type": "code",
   "execution_count": 1,
   "metadata": {},
   "outputs": [],
   "source": [
    "# load model from 2.2 (last epoch)\n",
    "from keras.models import load_model\n",
    "import os\n",
    "model_path = r'C:\\Users\\Carla Pugh\\PycharmProjects\\VideoSlicing\\jupyter notebooks\\model2_2_chkp'\n",
    "filename = 'weights.100-0.39.hdf5'\n",
    "fullpath = os.path.join(model_path,  filename)\n",
    "model = load_model(fullpath)"
   ]
  },
  {
   "cell_type": "code",
   "execution_count": 2,
   "metadata": {},
   "outputs": [
    {
     "name": "stdout",
     "output_type": "stream",
     "text": [
      "class hand_ties, validation count: 0, test count: 49, train count: 1\n",
      "class suture_throws, validation count: 0, test count: 49, train count: 1\n",
      "class thread_cuts, validation count: 0, test count: 49, train count: 1\n",
      "Total data: 3 classes for 3 files for train\n"
     ]
    }
   ],
   "source": [
    "# load test data\n",
    "from keras_video import VideoFrameGenerator\n",
    "import os\n",
    "import glob\n",
    "import keras\n",
    "\n",
    "glob_pattern='../data_v3_model_2.2/test_data_temp/{classname}/*.avi'\n",
    "\n",
    "classes = ['suture_throws', 'hand_ties', 'thread_cuts']\n",
    "classes.sort()\n",
    "\n",
    "# Create video frame generator\n",
    "# some global params\n",
    "SIZE = (100, 100) # height and width of frame pxl by pxl\n",
    "CHANNELS = 3 # RGB or whatever\n",
    "NBFRAME = 5 # num frames in sequence \n",
    "BS = 8 # Batch size\n",
    "\n",
    "train = VideoFrameGenerator(\n",
    "    classes=classes, \n",
    "    glob_pattern=glob_pattern,\n",
    "    nb_frames=NBFRAME,\n",
    "    split_val = 0.000001,\n",
    "    split_test=0.999999,\n",
    "    shuffle=False,\n",
    "    batch_size=BS,\n",
    "    target_shape=SIZE,\n",
    "    nb_channel=CHANNELS,\n",
    "    use_frame_cache=True)"
   ]
  },
  {
   "cell_type": "code",
   "execution_count": 3,
   "metadata": {},
   "outputs": [
    {
     "name": "stdout",
     "output_type": "stream",
     "text": [
      "Total data: 3 classes for 147 files for test\n"
     ]
    }
   ],
   "source": [
    "test = train.get_test_generator()"
   ]
  },
  {
   "cell_type": "code",
   "execution_count": 4,
   "metadata": {},
   "outputs": [],
   "source": [
    "files=test.files"
   ]
  },
  {
   "cell_type": "code",
   "execution_count": 5,
   "metadata": {},
   "outputs": [
    {
     "name": "stderr",
     "output_type": "stream",
     "text": [
      "C:\\ProgramData\\Anaconda3\\lib\\site-packages\\tensorflow\\python\\keras\\engine\\training.py:1905: UserWarning: `Model.predict_generator` is deprecated and will be removed in a future version. Please use `Model.predict`, which supports generators.\n",
      "  warnings.warn('`Model.predict_generator` is deprecated and '\n"
     ]
    }
   ],
   "source": [
    "a = model.predict_generator(test)"
   ]
  },
  {
   "cell_type": "code",
   "execution_count": 6,
   "metadata": {},
   "outputs": [
    {
     "data": {
      "text/plain": [
       "144"
      ]
     },
     "execution_count": 6,
     "metadata": {},
     "output_type": "execute_result"
    }
   ],
   "source": [
    "len(a)"
   ]
  },
  {
   "cell_type": "code",
   "execution_count": 7,
   "metadata": {},
   "outputs": [
    {
     "data": {
      "text/plain": [
       "array([[9.99980569e-01, 5.95429265e-06, 1.34583825e-05],\n",
       "       [9.99349535e-01, 4.15001909e-04, 2.35368323e-04],\n",
       "       [9.99017239e-01, 6.38679543e-04, 3.44061700e-04],\n",
       "       [9.99576032e-01, 9.25617496e-05, 3.31356918e-04],\n",
       "       [9.99645829e-01, 9.64385617e-05, 2.57769861e-04],\n",
       "       [9.99890327e-01, 2.04396529e-05, 8.92857643e-05],\n",
       "       [3.35783958e-02, 9.13156390e-01, 5.32652065e-02],\n",
       "       [9.99957919e-01, 1.59160190e-05, 2.60514971e-05],\n",
       "       [9.99691725e-01, 1.22321348e-04, 1.86036006e-04],\n",
       "       [9.99679565e-01, 1.58381386e-04, 1.62107608e-04],\n",
       "       [9.99602258e-01, 1.97264701e-04, 2.00592200e-04],\n",
       "       [9.98891413e-01, 3.88541579e-04, 7.20036216e-04],\n",
       "       [9.99430120e-01, 3.18741222e-04, 2.51180958e-04],\n",
       "       [9.99680758e-01, 1.57959381e-04, 1.61313117e-04],\n",
       "       [9.97145832e-01, 3.19099723e-04, 2.53516948e-03],\n",
       "       [9.99672771e-01, 1.39346899e-04, 1.87942322e-04],\n",
       "       [9.99691606e-01, 1.22346173e-04, 1.86072532e-04],\n",
       "       [9.99980569e-01, 5.94886069e-06, 1.34421689e-05],\n",
       "       [9.99831915e-01, 3.75309719e-05, 1.30494082e-04],\n",
       "       [9.99969840e-01, 1.04118271e-05, 1.98208709e-05],\n",
       "       [9.99341547e-01, 3.96672345e-04, 2.61739682e-04],\n",
       "       [6.58843696e-01, 2.28270844e-01, 1.12885460e-01],\n",
       "       [9.99973059e-01, 8.77533694e-06, 1.81393425e-05],\n",
       "       [9.99215603e-01, 3.78335506e-04, 4.06025822e-04],\n",
       "       [9.99537706e-01, 3.86991233e-05, 4.23544174e-04],\n",
       "       [9.99671936e-01, 1.62296797e-04, 1.65726684e-04],\n",
       "       [9.99958515e-01, 1.57387931e-05, 2.57855754e-05],\n",
       "       [9.99691606e-01, 1.22392506e-04, 1.86001213e-04],\n",
       "       [9.99980569e-01, 5.94774883e-06, 1.34249121e-05],\n",
       "       [9.99723852e-01, 1.09039131e-04, 1.67135222e-04],\n",
       "       [9.99875665e-01, 5.78221297e-05, 6.64833351e-05],\n",
       "       [9.99877572e-01, 2.22892486e-05, 1.00095363e-04],\n",
       "       [9.99958515e-01, 1.57611903e-05, 2.58070777e-05],\n",
       "       [9.99595821e-01, 1.59717107e-04, 2.44463095e-04],\n",
       "       [9.99977112e-01, 7.16539262e-06, 1.56989554e-05],\n",
       "       [9.99604285e-01, 1.96010922e-04, 1.99711882e-04],\n",
       "       [9.99868631e-01, 4.22465491e-05, 8.91313757e-05],\n",
       "       [9.94883299e-01, 3.00692138e-03, 2.10974528e-03],\n",
       "       [9.99967933e-01, 1.54770023e-05, 1.66023892e-05],\n",
       "       [8.53392184e-01, 1.53023833e-02, 1.31305486e-01],\n",
       "       [9.99680758e-01, 1.57870221e-04, 1.61370510e-04],\n",
       "       [9.99912620e-01, 1.63831974e-05, 7.10800305e-05],\n",
       "       [9.99504924e-01, 2.99220585e-04, 1.95835237e-04],\n",
       "       [9.99351919e-01, 4.13684495e-04, 2.34440304e-04],\n",
       "       [9.99967217e-01, 1.02885751e-05, 2.25535150e-05],\n",
       "       [9.99912620e-01, 1.63850564e-05, 7.10868771e-05],\n",
       "       [9.99183476e-01, 5.22968534e-04, 2.93503836e-04],\n",
       "       [9.99997497e-01, 9.97151801e-07, 1.58117041e-06],\n",
       "       [9.88455892e-01, 2.49880832e-03, 9.04538669e-03],\n",
       "       [8.95140984e-05, 9.99425173e-01, 4.85431403e-04],\n",
       "       [8.95904523e-05, 9.99425292e-01, 4.85183147e-04],\n",
       "       [3.45410022e-04, 9.96772349e-01, 2.88217468e-03],\n",
       "       [9.11310708e-05, 9.99425530e-01, 4.83401876e-04],\n",
       "       [9.08071743e-05, 9.99427974e-01, 4.81233816e-04],\n",
       "       [9.08091679e-05, 9.99427974e-01, 4.81226481e-04],\n",
       "       [8.32791629e-05, 9.99416828e-01, 4.99911897e-04],\n",
       "       [9.10133676e-05, 9.99426365e-01, 4.82604926e-04],\n",
       "       [9.08087386e-05, 9.99427974e-01, 4.81227849e-04],\n",
       "       [9.08778384e-05, 9.99427617e-01, 4.81486815e-04],\n",
       "       [1.77735885e-04, 9.98614430e-01, 1.20787346e-03],\n",
       "       [9.08082220e-05, 9.99427974e-01, 4.81229450e-04],\n",
       "       [9.08096044e-05, 9.99427974e-01, 4.81225317e-04],\n",
       "       [3.45423265e-04, 9.96772587e-01, 2.88201030e-03],\n",
       "       [3.45424865e-04, 9.96772468e-01, 2.88208155e-03],\n",
       "       [8.91521850e-05, 9.99424219e-01, 4.86713805e-04],\n",
       "       [1.00888043e-04, 9.99364913e-01, 5.34197025e-04],\n",
       "       [3.45698907e-04, 9.96770024e-01, 2.88429903e-03],\n",
       "       [9.08095171e-05, 9.99427974e-01, 4.81226016e-04],\n",
       "       [3.46199668e-04, 9.96764660e-01, 2.88907206e-03],\n",
       "       [9.08098664e-05, 9.99427974e-01, 4.81232913e-04],\n",
       "       [9.08090005e-05, 9.99427974e-01, 4.81227384e-04],\n",
       "       [1.09214467e-04, 9.99265134e-01, 6.25619665e-04],\n",
       "       [9.05493362e-05, 9.99427438e-01, 4.82064730e-04],\n",
       "       [2.87532981e-04, 9.98581886e-01, 1.13068277e-03],\n",
       "       [9.06493296e-05, 9.99427617e-01, 4.81742201e-04],\n",
       "       [9.08091679e-05, 9.99427974e-01, 4.81237948e-04],\n",
       "       [8.84011024e-05, 9.99421954e-01, 4.89628001e-04],\n",
       "       [9.48022644e-05, 9.99396920e-01, 5.08281286e-04],\n",
       "       [8.61751760e-05, 9.99418974e-01, 4.94952837e-04],\n",
       "       [9.08095171e-05, 9.99427974e-01, 4.81227849e-04],\n",
       "       [9.08095171e-05, 9.99427974e-01, 4.81226016e-04],\n",
       "       [9.08096044e-05, 9.99427974e-01, 4.81225550e-04],\n",
       "       [3.45377630e-04, 9.96771991e-01, 2.88252276e-03],\n",
       "       [3.23616521e-04, 9.97032166e-01, 2.64413189e-03],\n",
       "       [9.08095171e-05, 9.99427974e-01, 4.81225317e-04],\n",
       "       [9.08090879e-05, 9.99427974e-01, 4.81227384e-04],\n",
       "       [9.13675176e-05, 9.99424696e-01, 4.83914861e-04],\n",
       "       [9.29978560e-05, 9.99410868e-01, 4.96052846e-04],\n",
       "       [9.08155780e-05, 9.99427974e-01, 4.81252413e-04],\n",
       "       [3.45419627e-04, 9.96772468e-01, 2.88207200e-03],\n",
       "       [9.08095171e-05, 9.99427974e-01, 4.81225317e-04],\n",
       "       [9.08076108e-05, 9.99427974e-01, 4.81231749e-04],\n",
       "       [9.08064903e-05, 9.99427974e-01, 4.81235882e-04],\n",
       "       [9.08115035e-05, 9.99427974e-01, 4.81238880e-04],\n",
       "       [9.08093425e-05, 9.99427974e-01, 4.81226481e-04],\n",
       "       [1.40371975e-02, 6.18128181e-01, 3.67834628e-01],\n",
       "       [9.08092552e-05, 9.99427974e-01, 4.81226481e-04],\n",
       "       [9.08082220e-05, 9.99427974e-01, 4.81230381e-04],\n",
       "       [9.01418971e-04, 4.31963941e-03, 9.94778991e-01],\n",
       "       [5.46710580e-05, 1.01266167e-04, 9.99844074e-01],\n",
       "       [2.72755120e-02, 4.45824210e-03, 9.68266308e-01],\n",
       "       [7.87743847e-05, 3.74603900e-04, 9.99546587e-01],\n",
       "       [7.02075386e-06, 1.48309646e-05, 9.99978185e-01],\n",
       "       [1.32472754e-01, 5.11231363e-01, 3.56295854e-01],\n",
       "       [3.59594007e-04, 3.27422487e-04, 9.99312997e-01],\n",
       "       [8.83937702e-02, 2.90162838e-03, 9.08704579e-01],\n",
       "       [1.02894206e-03, 1.13527998e-02, 9.87618208e-01],\n",
       "       [4.69797198e-03, 6.92650955e-03, 9.88375545e-01],\n",
       "       [8.61887820e-03, 9.39394757e-02, 8.97441685e-01],\n",
       "       [5.22562186e-06, 7.19679974e-06, 9.99987602e-01],\n",
       "       [1.11228794e-04, 3.99196841e-04, 9.99489546e-01],\n",
       "       [8.80182895e-04, 4.05810354e-03, 9.95061696e-01],\n",
       "       [2.03922810e-03, 2.57087545e-03, 9.95389938e-01],\n",
       "       [2.23870436e-03, 9.92992520e-01, 4.76885540e-03],\n",
       "       [2.18264200e-02, 9.15837169e-01, 6.23363853e-02],\n",
       "       [6.99082739e-05, 2.24387419e-04, 9.99705732e-01],\n",
       "       [7.32493863e-05, 1.94533248e-04, 9.99732196e-01],\n",
       "       [8.24633244e-05, 9.99415874e-01, 5.01744333e-04],\n",
       "       [4.69838083e-03, 6.93110982e-03, 9.88370538e-01],\n",
       "       [5.75673475e-05, 9.20594102e-05, 9.99850392e-01],\n",
       "       [2.93698104e-05, 1.47748569e-05, 9.99955893e-01],\n",
       "       [7.32487897e-05, 1.96149020e-04, 9.99730647e-01],\n",
       "       [1.71964508e-04, 4.36342729e-04, 9.99391675e-01],\n",
       "       [6.81021158e-03, 1.73660472e-01, 8.19529355e-01],\n",
       "       [3.08427552e-04, 5.22955030e-04, 9.99168634e-01],\n",
       "       [3.34361743e-04, 9.96551037e-01, 3.11450870e-03],\n",
       "       [2.39767469e-04, 3.78772907e-04, 9.99381423e-01],\n",
       "       [7.02360012e-06, 1.48380095e-05, 9.99978185e-01],\n",
       "       [6.24767877e-03, 4.03866812e-04, 9.93348420e-01],\n",
       "       [6.82156024e-05, 1.93434644e-05, 9.99912381e-01],\n",
       "       [2.93982623e-04, 5.15791995e-04, 9.99190271e-01],\n",
       "       [7.93024607e-04, 7.08975829e-04, 9.98497963e-01],\n",
       "       [7.32485132e-05, 1.96147521e-04, 9.99730647e-01],\n",
       "       [2.22869427e-03, 9.93006587e-01, 4.76478366e-03],\n",
       "       [5.23038807e-06, 7.20282833e-06, 9.99987602e-01],\n",
       "       [7.26259750e-05, 1.68006372e-04, 9.99759376e-01],\n",
       "       [5.23456993e-06, 7.20783055e-06, 9.99987602e-01],\n",
       "       [2.42084311e-03, 9.44268107e-01, 5.33110313e-02],\n",
       "       [2.07500774e-02, 9.13502723e-02, 8.87899697e-01],\n",
       "       [7.58865644e-05, 1.97752772e-04, 9.99726355e-01],\n",
       "       [3.08581308e-04, 5.23131399e-04, 9.99168277e-01],\n",
       "       [2.02704826e-03, 2.27253512e-02, 9.75247622e-01],\n",
       "       [9.88988578e-01, 1.09221344e-03, 9.91925690e-03],\n",
       "       [9.47760880e-01, 4.11443450e-02, 1.10947536e-02]], dtype=float32)"
      ]
     },
     "execution_count": 7,
     "metadata": {},
     "output_type": "execute_result"
    }
   ],
   "source": [
    "a"
   ]
  },
  {
   "cell_type": "code",
   "execution_count": 8,
   "metadata": {},
   "outputs": [
    {
     "data": {
      "text/plain": [
       "['hand_ties', 'suture_throws', 'thread_cuts']"
      ]
     },
     "execution_count": 8,
     "metadata": {},
     "output_type": "execute_result"
    }
   ],
   "source": [
    "classes"
   ]
  },
  {
   "cell_type": "code",
   "execution_count": 9,
   "metadata": {},
   "outputs": [],
   "source": [
    "classes = ['hand_ties', 'suture_throws', 'thread_cuts']\n",
    "def predict_maneuver(probs):\n",
    "    mx = -1\n",
    "    mx_index = -1\n",
    "    for i in range(len(probs)):\n",
    "        if probs[i] > mx:\n",
    "            mx = probs[i]\n",
    "            mx_index = i\n",
    "    return classes[mx_index]"
   ]
  },
  {
   "cell_type": "code",
   "execution_count": 10,
   "metadata": {},
   "outputs": [],
   "source": [
    "# naive way: I am going to assume that the last 5 files are not predicted\n",
    "\n",
    "def get_name(fpath):\n",
    "    fname = fpath.split('\\\\')[1][:-4]\n",
    "    pre = fname.split('_')[0]\n",
    "    for name in classes:\n",
    "        if pre in name:\n",
    "            return name\n",
    "        \n",
    "predictions = []\n",
    "y_true = []\n",
    "y_pred = []\n",
    "for i in range(len(a)):\n",
    "    predictions.append(\n",
    "    {\n",
    "        'correct_label': get_name(files[i]),\n",
    "        #'correct_label': files[i],\n",
    "        'prediction': predict_maneuver(a[i])\n",
    "    })    \n",
    "    y_true.append(get_name(files[i]))\n",
    "    y_pred.append(predict_maneuver(a[i]))"
   ]
  },
  {
   "cell_type": "code",
   "execution_count": 11,
   "metadata": {},
   "outputs": [
    {
     "data": {
      "text/plain": [
       "[{'correct_label': 'hand_ties', 'prediction': 'hand_ties'},\n",
       " {'correct_label': 'hand_ties', 'prediction': 'hand_ties'},\n",
       " {'correct_label': 'hand_ties', 'prediction': 'hand_ties'},\n",
       " {'correct_label': 'hand_ties', 'prediction': 'hand_ties'},\n",
       " {'correct_label': 'hand_ties', 'prediction': 'hand_ties'},\n",
       " {'correct_label': 'hand_ties', 'prediction': 'hand_ties'},\n",
       " {'correct_label': 'hand_ties', 'prediction': 'suture_throws'},\n",
       " {'correct_label': 'hand_ties', 'prediction': 'hand_ties'},\n",
       " {'correct_label': 'hand_ties', 'prediction': 'hand_ties'},\n",
       " {'correct_label': 'hand_ties', 'prediction': 'hand_ties'},\n",
       " {'correct_label': 'hand_ties', 'prediction': 'hand_ties'},\n",
       " {'correct_label': 'hand_ties', 'prediction': 'hand_ties'},\n",
       " {'correct_label': 'hand_ties', 'prediction': 'hand_ties'},\n",
       " {'correct_label': 'hand_ties', 'prediction': 'hand_ties'},\n",
       " {'correct_label': 'hand_ties', 'prediction': 'hand_ties'},\n",
       " {'correct_label': 'hand_ties', 'prediction': 'hand_ties'},\n",
       " {'correct_label': 'hand_ties', 'prediction': 'hand_ties'},\n",
       " {'correct_label': 'hand_ties', 'prediction': 'hand_ties'},\n",
       " {'correct_label': 'hand_ties', 'prediction': 'hand_ties'},\n",
       " {'correct_label': 'hand_ties', 'prediction': 'hand_ties'},\n",
       " {'correct_label': 'hand_ties', 'prediction': 'hand_ties'},\n",
       " {'correct_label': 'hand_ties', 'prediction': 'hand_ties'},\n",
       " {'correct_label': 'hand_ties', 'prediction': 'hand_ties'},\n",
       " {'correct_label': 'hand_ties', 'prediction': 'hand_ties'},\n",
       " {'correct_label': 'hand_ties', 'prediction': 'hand_ties'},\n",
       " {'correct_label': 'hand_ties', 'prediction': 'hand_ties'},\n",
       " {'correct_label': 'hand_ties', 'prediction': 'hand_ties'},\n",
       " {'correct_label': 'hand_ties', 'prediction': 'hand_ties'},\n",
       " {'correct_label': 'hand_ties', 'prediction': 'hand_ties'},\n",
       " {'correct_label': 'hand_ties', 'prediction': 'hand_ties'},\n",
       " {'correct_label': 'hand_ties', 'prediction': 'hand_ties'},\n",
       " {'correct_label': 'hand_ties', 'prediction': 'hand_ties'},\n",
       " {'correct_label': 'hand_ties', 'prediction': 'hand_ties'},\n",
       " {'correct_label': 'hand_ties', 'prediction': 'hand_ties'},\n",
       " {'correct_label': 'hand_ties', 'prediction': 'hand_ties'},\n",
       " {'correct_label': 'hand_ties', 'prediction': 'hand_ties'},\n",
       " {'correct_label': 'hand_ties', 'prediction': 'hand_ties'},\n",
       " {'correct_label': 'hand_ties', 'prediction': 'hand_ties'},\n",
       " {'correct_label': 'hand_ties', 'prediction': 'hand_ties'},\n",
       " {'correct_label': 'hand_ties', 'prediction': 'hand_ties'},\n",
       " {'correct_label': 'hand_ties', 'prediction': 'hand_ties'},\n",
       " {'correct_label': 'hand_ties', 'prediction': 'hand_ties'},\n",
       " {'correct_label': 'hand_ties', 'prediction': 'hand_ties'},\n",
       " {'correct_label': 'hand_ties', 'prediction': 'hand_ties'},\n",
       " {'correct_label': 'hand_ties', 'prediction': 'hand_ties'},\n",
       " {'correct_label': 'hand_ties', 'prediction': 'hand_ties'},\n",
       " {'correct_label': 'hand_ties', 'prediction': 'hand_ties'},\n",
       " {'correct_label': 'hand_ties', 'prediction': 'hand_ties'},\n",
       " {'correct_label': 'hand_ties', 'prediction': 'hand_ties'},\n",
       " {'correct_label': 'suture_throws', 'prediction': 'suture_throws'},\n",
       " {'correct_label': 'suture_throws', 'prediction': 'suture_throws'},\n",
       " {'correct_label': 'suture_throws', 'prediction': 'suture_throws'},\n",
       " {'correct_label': 'suture_throws', 'prediction': 'suture_throws'},\n",
       " {'correct_label': 'suture_throws', 'prediction': 'suture_throws'},\n",
       " {'correct_label': 'suture_throws', 'prediction': 'suture_throws'},\n",
       " {'correct_label': 'suture_throws', 'prediction': 'suture_throws'},\n",
       " {'correct_label': 'suture_throws', 'prediction': 'suture_throws'},\n",
       " {'correct_label': 'suture_throws', 'prediction': 'suture_throws'},\n",
       " {'correct_label': 'suture_throws', 'prediction': 'suture_throws'},\n",
       " {'correct_label': 'suture_throws', 'prediction': 'suture_throws'},\n",
       " {'correct_label': 'suture_throws', 'prediction': 'suture_throws'},\n",
       " {'correct_label': 'suture_throws', 'prediction': 'suture_throws'},\n",
       " {'correct_label': 'suture_throws', 'prediction': 'suture_throws'},\n",
       " {'correct_label': 'suture_throws', 'prediction': 'suture_throws'},\n",
       " {'correct_label': 'suture_throws', 'prediction': 'suture_throws'},\n",
       " {'correct_label': 'suture_throws', 'prediction': 'suture_throws'},\n",
       " {'correct_label': 'suture_throws', 'prediction': 'suture_throws'},\n",
       " {'correct_label': 'suture_throws', 'prediction': 'suture_throws'},\n",
       " {'correct_label': 'suture_throws', 'prediction': 'suture_throws'},\n",
       " {'correct_label': 'suture_throws', 'prediction': 'suture_throws'},\n",
       " {'correct_label': 'suture_throws', 'prediction': 'suture_throws'},\n",
       " {'correct_label': 'suture_throws', 'prediction': 'suture_throws'},\n",
       " {'correct_label': 'suture_throws', 'prediction': 'suture_throws'},\n",
       " {'correct_label': 'suture_throws', 'prediction': 'suture_throws'},\n",
       " {'correct_label': 'suture_throws', 'prediction': 'suture_throws'},\n",
       " {'correct_label': 'suture_throws', 'prediction': 'suture_throws'},\n",
       " {'correct_label': 'suture_throws', 'prediction': 'suture_throws'},\n",
       " {'correct_label': 'suture_throws', 'prediction': 'suture_throws'},\n",
       " {'correct_label': 'suture_throws', 'prediction': 'suture_throws'},\n",
       " {'correct_label': 'suture_throws', 'prediction': 'suture_throws'},\n",
       " {'correct_label': 'suture_throws', 'prediction': 'suture_throws'},\n",
       " {'correct_label': 'suture_throws', 'prediction': 'suture_throws'},\n",
       " {'correct_label': 'suture_throws', 'prediction': 'suture_throws'},\n",
       " {'correct_label': 'suture_throws', 'prediction': 'suture_throws'},\n",
       " {'correct_label': 'suture_throws', 'prediction': 'suture_throws'},\n",
       " {'correct_label': 'suture_throws', 'prediction': 'suture_throws'},\n",
       " {'correct_label': 'suture_throws', 'prediction': 'suture_throws'},\n",
       " {'correct_label': 'suture_throws', 'prediction': 'suture_throws'},\n",
       " {'correct_label': 'suture_throws', 'prediction': 'suture_throws'},\n",
       " {'correct_label': 'suture_throws', 'prediction': 'suture_throws'},\n",
       " {'correct_label': 'suture_throws', 'prediction': 'suture_throws'},\n",
       " {'correct_label': 'suture_throws', 'prediction': 'suture_throws'},\n",
       " {'correct_label': 'suture_throws', 'prediction': 'suture_throws'},\n",
       " {'correct_label': 'suture_throws', 'prediction': 'suture_throws'},\n",
       " {'correct_label': 'suture_throws', 'prediction': 'suture_throws'},\n",
       " {'correct_label': 'suture_throws', 'prediction': 'suture_throws'},\n",
       " {'correct_label': 'suture_throws', 'prediction': 'suture_throws'},\n",
       " {'correct_label': 'suture_throws', 'prediction': 'suture_throws'},\n",
       " {'correct_label': 'thread_cuts', 'prediction': 'thread_cuts'},\n",
       " {'correct_label': 'thread_cuts', 'prediction': 'thread_cuts'},\n",
       " {'correct_label': 'thread_cuts', 'prediction': 'thread_cuts'},\n",
       " {'correct_label': 'thread_cuts', 'prediction': 'thread_cuts'},\n",
       " {'correct_label': 'thread_cuts', 'prediction': 'thread_cuts'},\n",
       " {'correct_label': 'thread_cuts', 'prediction': 'suture_throws'},\n",
       " {'correct_label': 'thread_cuts', 'prediction': 'thread_cuts'},\n",
       " {'correct_label': 'thread_cuts', 'prediction': 'thread_cuts'},\n",
       " {'correct_label': 'thread_cuts', 'prediction': 'thread_cuts'},\n",
       " {'correct_label': 'thread_cuts', 'prediction': 'thread_cuts'},\n",
       " {'correct_label': 'thread_cuts', 'prediction': 'thread_cuts'},\n",
       " {'correct_label': 'thread_cuts', 'prediction': 'thread_cuts'},\n",
       " {'correct_label': 'thread_cuts', 'prediction': 'thread_cuts'},\n",
       " {'correct_label': 'thread_cuts', 'prediction': 'thread_cuts'},\n",
       " {'correct_label': 'thread_cuts', 'prediction': 'thread_cuts'},\n",
       " {'correct_label': 'thread_cuts', 'prediction': 'suture_throws'},\n",
       " {'correct_label': 'thread_cuts', 'prediction': 'suture_throws'},\n",
       " {'correct_label': 'thread_cuts', 'prediction': 'thread_cuts'},\n",
       " {'correct_label': 'thread_cuts', 'prediction': 'thread_cuts'},\n",
       " {'correct_label': 'thread_cuts', 'prediction': 'suture_throws'},\n",
       " {'correct_label': 'thread_cuts', 'prediction': 'thread_cuts'},\n",
       " {'correct_label': 'thread_cuts', 'prediction': 'thread_cuts'},\n",
       " {'correct_label': 'thread_cuts', 'prediction': 'thread_cuts'},\n",
       " {'correct_label': 'thread_cuts', 'prediction': 'thread_cuts'},\n",
       " {'correct_label': 'thread_cuts', 'prediction': 'thread_cuts'},\n",
       " {'correct_label': 'thread_cuts', 'prediction': 'thread_cuts'},\n",
       " {'correct_label': 'thread_cuts', 'prediction': 'thread_cuts'},\n",
       " {'correct_label': 'thread_cuts', 'prediction': 'suture_throws'},\n",
       " {'correct_label': 'thread_cuts', 'prediction': 'thread_cuts'},\n",
       " {'correct_label': 'thread_cuts', 'prediction': 'thread_cuts'},\n",
       " {'correct_label': 'thread_cuts', 'prediction': 'thread_cuts'},\n",
       " {'correct_label': 'thread_cuts', 'prediction': 'thread_cuts'},\n",
       " {'correct_label': 'thread_cuts', 'prediction': 'thread_cuts'},\n",
       " {'correct_label': 'thread_cuts', 'prediction': 'thread_cuts'},\n",
       " {'correct_label': 'thread_cuts', 'prediction': 'thread_cuts'},\n",
       " {'correct_label': 'thread_cuts', 'prediction': 'suture_throws'},\n",
       " {'correct_label': 'thread_cuts', 'prediction': 'thread_cuts'},\n",
       " {'correct_label': 'thread_cuts', 'prediction': 'thread_cuts'},\n",
       " {'correct_label': 'thread_cuts', 'prediction': 'thread_cuts'},\n",
       " {'correct_label': 'thread_cuts', 'prediction': 'suture_throws'},\n",
       " {'correct_label': 'thread_cuts', 'prediction': 'thread_cuts'},\n",
       " {'correct_label': 'thread_cuts', 'prediction': 'thread_cuts'},\n",
       " {'correct_label': 'thread_cuts', 'prediction': 'thread_cuts'},\n",
       " {'correct_label': 'thread_cuts', 'prediction': 'thread_cuts'},\n",
       " {'correct_label': 'thread_cuts', 'prediction': 'hand_ties'},\n",
       " {'correct_label': 'thread_cuts', 'prediction': 'hand_ties'}]"
      ]
     },
     "execution_count": 11,
     "metadata": {},
     "output_type": "execute_result"
    }
   ],
   "source": [
    "predictions"
   ]
  },
  {
   "cell_type": "code",
   "execution_count": 12,
   "metadata": {},
   "outputs": [],
   "source": [
    "from sklearn.metrics import accuracy_score"
   ]
  },
  {
   "cell_type": "code",
   "execution_count": 17,
   "metadata": {},
   "outputs": [
    {
     "name": "stdout",
     "output_type": "stream",
     "text": [
      "accuracy: 0.9305555555555556\n"
     ]
    }
   ],
   "source": [
    "print('accuracy: {}'.format(accuracy_score(y_true, y_pred)))"
   ]
  },
  {
   "cell_type": "code",
   "execution_count": 14,
   "metadata": {},
   "outputs": [
    {
     "name": "stdout",
     "output_type": "stream",
     "text": [
      "fraction of predictions that are thread cuts: 0.2569444444444444\n",
      "fraction of inputs that are thread cuts: 0.3194444444444444\n"
     ]
    }
   ],
   "source": [
    "thred_pred_cnt = 0\n",
    "actual_thred_cnt = 0\n",
    "for i in range(len(predictions)):\n",
    "    if predictions[i]['correct_label'] == 'thread_cuts':\n",
    "        actual_thred_cnt += 1\n",
    "    if predictions[i]['prediction'] == 'thread_cuts':\n",
    "        thred_pred_cnt += 1\n",
    "print('fraction of predictions that are thread cuts: {}'.format(thred_pred_cnt/len(predictions)))\n",
    "print('fraction of inputs that are thread cuts: {}'.format(actual_thred_cnt/len(predictions)))"
   ]
  },
  {
   "cell_type": "code",
   "execution_count": null,
   "metadata": {},
   "outputs": [],
   "source": []
  }
 ],
 "metadata": {
  "kernelspec": {
   "display_name": "Python 3",
   "language": "python",
   "name": "python3"
  },
  "language_info": {
   "codemirror_mode": {
    "name": "ipython",
    "version": 3
   },
   "file_extension": ".py",
   "mimetype": "text/x-python",
   "name": "python",
   "nbconvert_exporter": "python",
   "pygments_lexer": "ipython3",
   "version": "3.8.3"
  }
 },
 "nbformat": 4,
 "nbformat_minor": 4
}
