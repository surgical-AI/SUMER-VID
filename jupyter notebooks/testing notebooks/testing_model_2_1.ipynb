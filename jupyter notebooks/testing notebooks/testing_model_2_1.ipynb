{
 "cells": [
  {
   "cell_type": "code",
   "execution_count": 1,
   "metadata": {},
   "outputs": [],
   "source": [
    "# load model from 2.1 (last epoch)\n",
    "from keras.models import load_model\n",
    "import os\n",
    "model_path = r'C:\\Users\\Carla Pugh\\PycharmProjects\\VideoSlicing\\jupyter notebooks\\chkp'\n",
    "filename = 'weights.50-0.37.hdf5'\n",
    "fullpath = os.path.join(model_path,  'weights.50-0.37.hdf5')\n",
    "model = load_model(fullpath)"
   ]
  },
  {
   "cell_type": "code",
   "execution_count": 105,
   "metadata": {},
   "outputs": [
    {
     "name": "stdout",
     "output_type": "stream",
     "text": [
      "class hand_ties, validation count: 196, test count: 11, train count: 186\n",
      "class suture_throws, validation count: 196, test count: 11, train count: 186\n",
      "class thread_cuts, validation count: 196, test count: 11, train count: 186\n",
      "Total data: 3 classes for 558 files for train\n"
     ]
    }
   ],
   "source": [
    "# load test data\n",
    "from keras_video import VideoFrameGenerator\n",
    "import os\n",
    "import glob\n",
    "import keras\n",
    "\n",
    "glob_pattern='../data_v2_1_model_1_2/model_data/{classname}/*.avi'\n",
    "\n",
    "classes = ['suture_throws', 'hand_ties', 'thread_cuts']\n",
    "classes.sort()\n",
    "\n",
    "# Create video frame generator\n",
    "# some global params\n",
    "SIZE = (112, 112) # height and width of frame pxl by pxl\n",
    "CHANNELS = 3 # RGB or whatever\n",
    "NBFRAME = 5 # num frames in sequence \n",
    "BS = 8 # Batch size\n",
    "\n",
    "train = VideoFrameGenerator(\n",
    "    classes=classes, \n",
    "    glob_pattern=glob_pattern,\n",
    "    nb_frames=NBFRAME,\n",
    "    split_val = 0.5,\n",
    "    split_test=0.06,\n",
    "    shuffle=True,\n",
    "    batch_size=BS,\n",
    "    target_shape=SIZE,\n",
    "    nb_channel=CHANNELS,\n",
    "    use_frame_cache=True)"
   ]
  },
  {
   "cell_type": "code",
   "execution_count": 106,
   "metadata": {},
   "outputs": [
    {
     "name": "stdout",
     "output_type": "stream",
     "text": [
      "Total data: 3 classes for 33 files for test\n"
     ]
    }
   ],
   "source": [
    "test = train.get_test_generator()"
   ]
  },
  {
   "cell_type": "code",
   "execution_count": 108,
   "metadata": {},
   "outputs": [],
   "source": [
    "a = model.predict_generator(test)"
   ]
  },
  {
   "cell_type": "code",
   "execution_count": 109,
   "metadata": {},
   "outputs": [
    {
     "data": {
      "text/plain": [
       "32"
      ]
     },
     "execution_count": 109,
     "metadata": {},
     "output_type": "execute_result"
    }
   ],
   "source": [
    "len(a)"
   ]
  },
  {
   "cell_type": "code",
   "execution_count": 110,
   "metadata": {},
   "outputs": [
    {
     "data": {
      "text/plain": [
       "array([[9.9348265e-01, 5.7080724e-05, 6.4602830e-03],\n",
       "       [9.8730379e-01, 1.5951660e-04, 1.2536714e-02],\n",
       "       [9.7165585e-01, 5.7022291e-04, 2.7773874e-02],\n",
       "       [1.9871567e-01, 7.0045963e-02, 7.3123831e-01],\n",
       "       [8.5723555e-01, 8.7197982e-03, 1.3404465e-01],\n",
       "       [9.8102230e-01, 3.3104260e-04, 1.8646630e-02],\n",
       "       [8.8679922e-01, 7.1642045e-03, 1.0603661e-01],\n",
       "       [9.0660828e-01, 4.4299806e-03, 8.8961758e-02],\n",
       "       [9.3500626e-01, 2.0755762e-03, 6.2918223e-02],\n",
       "       [8.8981622e-01, 6.8934737e-03, 1.0329035e-01],\n",
       "       [9.4442195e-01, 1.8711531e-03, 5.3706884e-02],\n",
       "       [9.8030543e-01, 3.2210941e-04, 1.9372460e-02],\n",
       "       [9.6865875e-01, 6.8528834e-04, 3.0655868e-02],\n",
       "       [9.2261577e-01, 3.4506714e-03, 7.3933594e-02],\n",
       "       [8.9543915e-01, 5.3178738e-03, 9.9243008e-02],\n",
       "       [9.6300149e-01, 8.8638929e-04, 3.6112178e-02],\n",
       "       [9.6103132e-01, 1.4916090e-03, 3.7477098e-02],\n",
       "       [9.8672986e-01, 2.2447063e-04, 1.3045755e-02],\n",
       "       [9.8008692e-01, 3.1618678e-04, 1.9596985e-02],\n",
       "       [9.8767030e-01, 1.5352390e-04, 1.2176204e-02],\n",
       "       [7.6784784e-01, 1.4975397e-02, 2.1717674e-01],\n",
       "       [9.4653100e-01, 1.7645007e-03, 5.1704556e-02],\n",
       "       [9.9357468e-01, 5.6079974e-05, 6.3692494e-03],\n",
       "       [9.2139745e-01, 2.2566961e-03, 7.6345928e-02],\n",
       "       [9.6946836e-01, 6.9000735e-04, 2.9841742e-02],\n",
       "       [9.4124997e-01, 1.5922388e-03, 5.7157844e-02],\n",
       "       [9.9360174e-01, 5.6635206e-05, 6.3416329e-03],\n",
       "       [9.4872719e-01, 2.0509779e-03, 4.9221780e-02],\n",
       "       [9.0139216e-01, 5.2349735e-03, 9.3372904e-02],\n",
       "       [8.9142305e-01, 6.3692243e-03, 1.0220776e-01],\n",
       "       [9.5357054e-01, 1.2979810e-03, 4.5131434e-02],\n",
       "       [8.8381910e-01, 8.8627310e-03, 1.0731819e-01]], dtype=float32)"
      ]
     },
     "execution_count": 110,
     "metadata": {},
     "output_type": "execute_result"
    }
   ],
   "source": [
    "a"
   ]
  },
  {
   "cell_type": "code",
   "execution_count": null,
   "metadata": {},
   "outputs": [],
   "source": []
  }
 ],
 "metadata": {
  "kernelspec": {
   "display_name": "Python 3",
   "language": "python",
   "name": "python3"
  },
  "language_info": {
   "codemirror_mode": {
    "name": "ipython",
    "version": 3
   },
   "file_extension": ".py",
   "mimetype": "text/x-python",
   "name": "python",
   "nbconvert_exporter": "python",
   "pygments_lexer": "ipython3",
   "version": "3.7.10"
  }
 },
 "nbformat": 4,
 "nbformat_minor": 4
}
